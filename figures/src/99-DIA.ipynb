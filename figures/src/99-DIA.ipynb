{
 "cells": [
  {
   "cell_type": "code",
   "execution_count": 2,
   "id": "16b1e472-5417-4314-b5ba-442102a29175",
   "metadata": {},
   "outputs": [],
   "source": [
    "%config Completer.use_jedi = False"
   ]
  },
  {
   "cell_type": "code",
   "execution_count": 3,
   "id": "154bdb65-8307-48c2-8de6-b61e5dac9d32",
   "metadata": {},
   "outputs": [],
   "source": [
    "import numpy as np\n",
    "from scipy import optimize, interpolate, constants\n",
    "import skelectrox as skx\n",
    "import sympy as sym\n",
    "from typing import Iterable\n",
    "import matplotlib.pyplot as plt\n",
    "from matplotlib import patches\n",
    "plt.style.use('presentation')"
   ]
  },
  {
   "cell_type": "code",
   "execution_count": 4,
   "id": "faceecea-454f-4d4b-91f2-a1374231400e",
   "metadata": {},
   "outputs": [
    {
     "data": {
      "text/plain": [
       "(8.314462618, 96485.33212, 6.02214076e+23)"
      ]
     },
     "execution_count": 4,
     "metadata": {},
     "output_type": "execute_result"
    }
   ],
   "source": [
    "R = constants.R\n",
    "F = constants.physical_constants['Faraday constant'][0]\n",
    "n = 2\n",
    "Na = constants.physical_constants['Avogadro constant'][0]\n",
    "R, F, Na"
   ]
  },
  {
   "cell_type": "markdown",
   "id": "aeb9323e-0980-4b5d-b28c-e2edc78834ca",
   "metadata": {},
   "source": [
    "# Theoritical "
   ]
  },
  {
   "cell_type": "markdown",
   "id": "6c1237eb-d68a-4d0b-b269-c05a5b5a65c4",
   "metadata": {},
   "source": [
    "The differential Impedance Analysis (DIA) is based on the use of a Local Operator Model (LOM)\n",
    "which is a equivalent circuit for a simple Faradic reaction but has direct meaning with the \n",
    "experimental spectrum that is being analyzed.\n",
    "\n",
    "The LOM operator corresponds to the equivalent circuit Rads-(R/C).\n",
    "\n",
    "The procedure of the structural and parametric identification can be described by the following steps:\n",
    "* scanning with the LOM throughout the whole frequency range with a scanning window of a single frequency.\n",
    "* parametric identification of the LOM at every working frequency\n",
    "* Frequency analysis of the LOM parameters' estimates\n",
    "\n",
    "$$Z_{LOM} = R_{ads} + \\frac{R}{1+\\tau ^2\\omega ^2} - j\\frac{\\omega R \\tau}{1+\\tau ^2\\omega ^2}  $$ \n",
    "\n",
    "The objective is to identify the LOM parameters: $R_{ads}$, $R$, $\\tau$, $C=R\\tau$.\n",
    "\n",
    "First the effective resistance and the effective inductance are expressed:\n",
    "$$ R_{eff} = ReZ = R_{ads} + \\frac{R}{1+\\tau ^2\\omega ^2} $$\n",
    "\n",
    "$$ L_{eff} = -ImZ/\\omega = \\frac{R \\tau}{1+\\tau ^2\\omega ^2} $$\n",
    "\n",
    "Derivatives of the effective resistance and inductance are:\n",
    "$$ \\frac{dR_{eff}}{d\\omega} = -R \\frac{2\\omega \\tau ^2}{(1+\\tau ^2\\omega ^2)^2} $$\n",
    "\n",
    "$$ ImZ = -L_{eff} \\cdot \\omega $$\n",
    "\n",
    "$$ \\frac{dImZ}{d\\omega} = -\\frac{ImZ}{dL_{eff}} \\frac{dL_{eff}}{d\\omega} = -\\omega \\frac{dL_{eff}}{d\\omega} $$\n",
    "\n",
    "$$ \\frac{dL_{eff}}{d\\omega} =  -R\\tau \\frac{2\\tau ^2 \\omega}{(1+\\tau ^2\\omega ^2)^2} = -\\frac{dImZ}{d\\omega} \\frac{1}{\\omega}$$\n",
    "\n",
    "Expression of the LOM parameters:\n",
    "\n",
    "$$\\tau(\\omega) = \\frac{\\frac{dL_{eff}}{d\\omega}}{\\frac{dR_{eff}}{d\\omega}} = \\frac{dL_{eff}}{dR_{eff}} $$\n",
    "\n",
    "$$ R(\\omega) = -\\frac{dR_{eff}}{d\\omega} \\cdot \\frac{(1+\\tau ^2\\omega ^2)^2}{2\\omega \\tau ^2} $$\n",
    "\n",
    "$$ R_{ads}(\\omega) = R_{eff}(\\omega) - \\frac{R}{1+\\tau ^2\\omega ^2} $$\n",
    "\n",
    "$$ C(\\omega) = \\frac{\\tau}{R} $$"
   ]
  },
  {
   "cell_type": "code",
   "execution_count": 5,
   "id": "1e61aa59-1dad-4145-96f8-ef90769981df",
   "metadata": {},
   "outputs": [],
   "source": [
    "def interpolate_impedance(f, Z, m=5, kind=\"cubic\"):\n",
    "    \n",
    "    n = f.size\n",
    "    logf = np.log10(f)\n",
    "    logf_max = logf.max()\n",
    "    logf_min = logf.min()\n",
    "    \n",
    "    if m < 1:\n",
    "        raise ValueError(\"m must greater than 1.\")\n",
    "        \n",
    "    new_f = np.logspace(logf_max, logf_min, m*n)\n",
    "    \n",
    "    x = np.log10(f)\n",
    "    y = np.log10(np.absolute(Z))\n",
    "    fmod = interpolate.interp1d(x, y, kind=kind)\n",
    "    \n",
    "    x = np.log10(f)\n",
    "    y = np.angle(Z)\n",
    "    fphase = interpolate.interp1d(x, y, kind=kind)\n",
    "    \n",
    "    new_mod = 10**fmod(np.log10(new_f))\n",
    "    new_phase = fphase(np.log10(new_f))\n",
    "    \n",
    "    new_Z = new_mod * np.exp(1j*new_phase)\n",
    "    \n",
    "    return new_f, new_Z\n",
    "    \n",
    "\n",
    "class DifferentialImpedanceAnalysis(object):\n",
    "    \"\"\"Class for abstracting differential impedance analysis. See __init__.__doc__.\"\"\"\n",
    "    def __init__(self, f, rez, imz, fmax=None, fmin=None):\n",
    "        r\"\"\"\n",
    "        Differential Impedance Analysis (DIA).\n",
    "        \n",
    "        Parameters\n",
    "        ------------\n",
    "        f: array-like, shape=(n,)\n",
    "            Frequencies in Hz.\n",
    "        rez: array-like, shape=(n,)\n",
    "            Real part of the impedance.\n",
    "        imz: array-like, shape=(n,)\n",
    "            Imagniray part of the impedance.\n",
    "        \"\"\"\n",
    "        if not isinstance(f, np.ndarray):\n",
    "            raise TypeError(\"f must be an ndarray.\")\n",
    "        \n",
    "        if not isinstance(rez, np.ndarray):\n",
    "            raise TypeError(\"ReZ must be an ndarray.\")\n",
    "            \n",
    "        if not isinstance(imz, np.ndarray):\n",
    "            raise TypeError(\"ImZ must be an ndarray.\")\n",
    "            \n",
    "        if (f.size != rez.size) or (f.size != imz.size) or (rez.size != imz.size):\n",
    "            raise ValueError(\"f, ReZ and ImZ must have the same size\")\n",
    "        \n",
    "        # Impedance values\n",
    "        self.n = f.size\n",
    "        self.f = f[np.argsort(f)][::-1].copy()\n",
    "        self.w = self.f * np.pi * 2.0\n",
    "        self.rez = ReZ[np.argsort(f)][::-1].copy()\n",
    "        self.imz = ImZ[np.argsort(f)][::-1].copy()\n",
    "        self.leff = -self.imz / self.w\n",
    "        \n",
    "        logf = np.log10(f)\n",
    "        n_decades = logf.max() - logf.min()\n",
    "        m = self.n / n_decades\n",
    "        self.w0 = 1.0 / m\n",
    "        \n",
    "        # LOM parameters\n",
    "        self._names = ('f', 'R', 'Rads', 'T', 'C')\n",
    "        self._colors = ('k', 'C3', 'C8', 'C2', 'C0')\n",
    "        data_types = ['f8'] * len(self._names)\n",
    "        self._dtypes = np.dtype(list(zip(self._names, data_types)))\n",
    "        self._lom_parameters = np.zeros(shape=(self.n-1, ), dtype=self._dtypes)\n",
    "        self._lom_parameters['f'] = 1/self.w[:-1]\n",
    "        \n",
    "        # colors for parameters\n",
    "        self._lom_parameter_colors = dict(zip(self._names[1:], self._colors[1:]))\n",
    "        \n",
    "        self._temporal_analysis()\n",
    "            \n",
    "    def _temporal_analysis(self):\n",
    "        \n",
    "        dreff = np.diff(self.rez) / np.diff(self.w)\n",
    "        dleff = np.diff(self.leff) / np.diff(self.w)\n",
    "        T = dleff / dreff\n",
    "        self._lom_parameters['T'][:] = T[:]\n",
    "        \n",
    "        b = 1+self.w[:-1]**2*T**2\n",
    "        a = 2*self.w[:-1]*T**2\n",
    "        R = -dreff * b**2 / a\n",
    "        self._lom_parameters['R'][:] = R[:]\n",
    "        \n",
    "        Rads = self.rez[:-1] - R / b\n",
    "        self._lom_parameters['Rads'][:] = Rads[:]\n",
    "        \n",
    "        C = T / R\n",
    "        self._lom_parameters['C'][:] = C[:]\n",
    "        \n",
    "        \n",
    "    def spectral_analysis(self, s=0.1, parameter='R', sign='+'):\n",
    "        \n",
    "        if parameter not in self._names[1:]:\n",
    "            ValueError(\"{0:s} is not a LOM parameter.\".format(parameter))\n",
    "        \n",
    "        p = self.lom_parameters[parameter]\n",
    "        \n",
    "        if sign == '+':\n",
    "            mask = p > 0.0\n",
    "        elif sign == '-':\n",
    "            mask = p < 0.0\n",
    "        else:\n",
    "            raise ValueError(\"sign must be either + or -.\")\n",
    "            \n",
    "        if mask.sum() >= 2:\n",
    "            \n",
    "            y = np.log10(np.absolute(p[mask]))\n",
    "\n",
    "            ymax = np.ceil(y.max())\n",
    "            ymin = np.floor(y.min())\n",
    "\n",
    "            limits = np.arange(ymin, ymax+s, s)\n",
    "            S = np.zeros_like(limits)\n",
    "\n",
    "            S, bins = np.histogram(a=y, bins=limits, weights=np.ones_like(y)*self.w0)\n",
    "\n",
    "            sa = np.zeros(shape=(S.shape), dtype=[('logP', 'f8'), ('I /dB', 'f8')])    \n",
    "            sa['logP'][:] = bins[:-1]\n",
    "            sa['I /dB'][:] = S[:] * 10.0\n",
    "        else:\n",
    "            sa = None\n",
    "            \n",
    "        return sa\n",
    "    \n",
    "    def differential_temporal_analysis(self, parameter=\"R\", sign=\"+\"):\n",
    "        \n",
    "        if parameter not in self._names[1:]:\n",
    "            ValueError(\"{0:s} is not a LOM parameter.\".format(parameter))\n",
    "        \n",
    "        p = self.lom_parameters[parameter]\n",
    "        f = self._lom_parameters['f']\n",
    "        \n",
    "        if sign == '+':\n",
    "            mask = p > 0.0\n",
    "        elif sign == '-':\n",
    "            mask = p < 0.0\n",
    "        else:\n",
    "            raise ValueError(\"sign must be either + or -.\")\n",
    "            \n",
    "        if mask.sum() >= 2:\n",
    "            x = np.log10(f[mask])\n",
    "            y = np.log10(np.absolute(p[mask]))\n",
    "            dp = np.diff(y) / np.diff(x)\n",
    "\n",
    "            dta = np.zeros(shape=(dp.shape), dtype=[('f', 'f8'), ('delta_P', 'f8')])    \n",
    "            dta['f'][:] = x[:-1]\n",
    "            dta['delta_P'][:] = dp\n",
    "        else:\n",
    "            dta = None\n",
    "        \n",
    "        return dta\n",
    "    \n",
    "    def differential_spectral_analysis(self, s=0.1, parameter='R', sign='+'):\n",
    "        \n",
    "        if parameter not in self._names[1:]:\n",
    "            ValueError(\"{0:s} is not a LOM parameter.\".format(parameter))\n",
    "            \n",
    "        dta = self.differential_temporal_analysis(parameter, sign)\n",
    "        \n",
    "        if dta is None:\n",
    "            dsa = None\n",
    "        else:\n",
    "            y = dta['delta_P']\n",
    "\n",
    "            ymax = np.ceil(y.max())\n",
    "            ymin = np.floor(y.min())\n",
    "\n",
    "            limits = np.arange(ymin, ymax+s, s)\n",
    "            S = np.zeros_like(limits)\n",
    "\n",
    "            S, bins = np.histogram(a=y, bins=limits, weights=np.ones_like(y)*self.w0)\n",
    "\n",
    "            dsa = np.zeros(shape=(S.shape), dtype=[('log_dP', 'f8'), ('I /dB', 'f8')])    \n",
    "            dsa['log_dP'][:] = bins[:-1]\n",
    "            dsa['I /dB'][:] = S[:] * 10.0\n",
    "        \n",
    "        return dsa\n",
    "        \n",
    "    @property\n",
    "    def lom_parameters(self):\n",
    "        r\"\"\"\n",
    "        Provides the computed LOM parameters as structured array.\n",
    "        \"\"\"\n",
    "        return self._lom_parameters\n",
    "        \n",
    "    @property\n",
    "    def colors(self):\n",
    "        r\"\"\"\n",
    "        Provide the colors for LOM parameters.\n",
    "        \"\"\"\n",
    "        return self._lom_parameter_colors\n",
    "    \n",
    "    @colors.setter\n",
    "    def colors(self, new_colors):\n",
    "        r\"\"\"\n",
    "        Set new colors for LOM parameters.\n",
    "        \"\"\"\n",
    "        if not isinstance(new_colors, dict):\n",
    "            raise TypeError(\"new_colors must be a dictionnary with keys=LOM parameter and values=colors\")\n",
    "            \n",
    "        for key in new_colors.keys():\n",
    "            if key not in self._lom_parameter_colors:\n",
    "                raise ValueError(\"Parameter {0:s} is not a LOM parameter (R, Rads, T, C)\".format(key))\n",
    "        \n",
    "        self._lom_parameter_colors.update(new_colors)\n",
    "        \n",
    "    @property\n",
    "    def lom_parameter_names(self):\n",
    "        r\"\"\"\n",
    "        Provide the names of the LOM parameters\n",
    "        \"\"\"\n",
    "        return self._names[1:]"
   ]
  },
  {
   "cell_type": "code",
   "execution_count": 9,
   "id": "4e739501-bd43-4d84-8aae-04eab9c216b8",
   "metadata": {},
   "outputs": [
    {
     "name": "stdout",
     "output_type": "stream",
     "text": [
      "R\n",
      "Rads\n",
      "T\n",
      "C\n"
     ]
    },
    {
     "data": {
      "text/plain": [
       "<matplotlib.legend.Legend at 0x18c3c99cf40>"
      ]
     },
     "execution_count": 9,
     "metadata": {},
     "output_type": "execute_result"
    },
    {
     "data": {
      "image/png": "[encoded data removed]",
      "text/plain": [
       "<Figure size 432x288 with 1 Axes>"
      ]
     },
     "metadata": {
      "needs_background": "light"
     },
     "output_type": "display_data"
    },
    {
     "data": {
      "image/png": "[encoded data removed]",
      "text/plain": [
       "<Figure size 432x288 with 1 Axes>"
      ]
     },
     "metadata": {
      "needs_background": "light"
     },
     "output_type": "display_data"
    }
   ],
   "source": [
    "c = skx.eis.ElectrochemicalCircuit.from_string('Rel+Rct/Cox+R2/C2')\n",
    "c.set_parameter_values(dict(zip((\"Rel\", 'Cox', 'Rct', \"R2\", \"C2\"), (20.0, 1e-2, 100, 200, 1e-2))))\n",
    "\n",
    "w = np.logspace(4, -3, 7*1000)\n",
    "f = w/(np.pi*2)\n",
    "xi = (w,)\n",
    "\n",
    "Z, scalc, s = c.simulate(xi)\n",
    "\n",
    "ReZ = Z.real\n",
    "ImZ = Z.imag\n",
    "modZ = np.absolute(Z)\n",
    "phase = np.angle(Z, deg=True)\n",
    "\n",
    "dia = DifferentialImpedanceAnalysis(f, ReZ, ImZ)\n",
    "\n",
    "fig = plt.figure()\n",
    "ax = fig.add_subplot(111)\n",
    "ax.set_aspect('equal')\n",
    "ax.plot(ReZ, ImZ, 'k.', ms=1)\n",
    "\n",
    "ax.invert_yaxis()\n",
    "\n",
    "\n",
    "plt.figure()\n",
    "\n",
    "x = np.log10(dia.lom_parameters['f'])\n",
    "\n",
    "for param in dia.lom_parameter_names:\n",
    "    print(param)\n",
    "    y = np.log10(dia.lom_parameters[param])\n",
    "    plt.plot(x, y, marker='.', ms=2, color=dia.colors[param], label=param)\n",
    "\n",
    "plt.ylim(-6.2, 4)\n",
    "\n",
    "plt.legend()\n"
   ]
  },
  {
   "cell_type": "code",
   "execution_count": 16,
   "id": "e7efb398-2ad3-4fa0-84ed-6b3be39aeb7a",
   "metadata": {},
   "outputs": [
    {
     "data": {
      "text/plain": [
       "<matplotlib.legend.Legend at 0x18c42b214f0>"
      ]
     },
     "execution_count": 16,
     "metadata": {},
     "output_type": "execute_result"
    },
    {
     "data": {
      "image/png": "[encoded data removed]",
      "text/plain": [
       "<Figure size 432x288 with 1 Axes>"
      ]
     },
     "metadata": {
      "needs_background": "light"
     },
     "output_type": "display_data"
    }
   ],
   "source": [
    "s = 0.05\n",
    "for param in dia.lom_parameter_names:\n",
    "    sign = '+'\n",
    "    r = dia.spectral_analysis(s=s, parameter=param, sign=sign)\n",
    "    if r is not None:\n",
    "        plt.bar(r['logP'], r['I /dB'], width=s, color=dia.colors[param], align='edge', label=param + \" ({0:s})\".format(sign))\n",
    "    \n",
    "plt.ylim(-1, )\n",
    "plt.legend()"
   ]
  },
  {
   "cell_type": "code",
   "execution_count": 12,
   "id": "a90a21c6-74c9-443e-9abf-51815cdbfee0",
   "metadata": {},
   "outputs": [
    {
     "data": {
      "text/plain": [
       "(-3.0, 3.0)"
      ]
     },
     "execution_count": 12,
     "metadata": {},
     "output_type": "execute_result"
    },
    {
     "data": {
      "image/png": "[encoded data removed]",
      "text/plain": [
       "<Figure size 432x288 with 1 Axes>"
      ]
     },
     "metadata": {
      "needs_background": "light"
     },
     "output_type": "display_data"
    }
   ],
   "source": [
    "for param in dia.lom_parameter_names:\n",
    "    sign=\"+\"\n",
    "    r = dia.differential_temporal_analysis(parameter=param, sign=sign)\n",
    "    if r is not None:\n",
    "        plt.plot(r['f'], r['delta_P'], marker='.', ms=2, ls='', color=dia.colors[param], label= param+ \" ({0:s})\".format(sign))\n",
    "    \n",
    "plt.legend()\n",
    "plt.ylim(-3, 3)"
   ]
  },
  {
   "cell_type": "code",
   "execution_count": 14,
   "id": "d921617b-7a2b-429a-ba20-f515ac03cc29",
   "metadata": {},
   "outputs": [
    {
     "data": {
      "text/plain": [
       "(-2.0, 2.0)"
      ]
     },
     "execution_count": 14,
     "metadata": {},
     "output_type": "execute_result"
    },
    {
     "data": {
      "image/png": "[encoded data removed]",
      "text/plain": [
       "<Figure size 432x288 with 1 Axes>"
      ]
     },
     "metadata": {
      "needs_background": "light"
     },
     "output_type": "display_data"
    }
   ],
   "source": [
    "s = 0.01\n",
    "for param in dia.lom_parameter_names:\n",
    "    \n",
    "    if param == 'Rads':\n",
    "        pass\n",
    "    else:\n",
    "        r = dia.differential_spectral_analysis(s=s, parameter=param, sign=\"+\")\n",
    "        plt.bar(r['log_dP'], r['I /dB'], width=s, color=dia.colors[param], align='edge', label=param)\n",
    "    \n",
    "plt.legend()\n",
    "plt.xlim(-2, 2)"
   ]
  },
  {
   "cell_type": "code",
   "execution_count": 212,
   "id": "c329cd33-d168-4c99-9edc-db674d960619",
   "metadata": {},
   "outputs": [
    {
     "data": {
      "text/plain": [
       "0.31622776601683794"
      ]
     },
     "execution_count": 212,
     "metadata": {},
     "output_type": "execute_result"
    }
   ],
   "source": [
    "10**-0.5"
   ]
  },
  {
   "cell_type": "code",
   "execution_count": 3,
   "id": "1eafc3da-3126-42fc-9695-04ca6467150e",
   "metadata": {},
   "outputs": [
    {
     "name": "stdout",
     "output_type": "stream",
     "text": [
      "3.881243116198621e-06\n",
      "3.262225063784449e-07\n",
      "2.217106743079886e-15\n"
     ]
    }
   ],
   "source": [
    "C = skx.eis.ElectrochemicalCircuit.q2c_nd(2e-4, 0.46, 174)\n",
    "print(C)\n",
    "d = skx.eis.ElectrochemicalCircuit.c2d(eps=22, capacitance=C, area=65.0e-4)\n",
    "print(d)\n",
    "D = skx.eis.ElectrochemicalCircuit.d2D(d, tau=48)\n",
    "print(D)"
   ]
  },
  {
   "cell_type": "code",
   "execution_count": 4,
   "id": "a7c0bb0d-d4c4-45e5-be15-2b78cb22cc6d",
   "metadata": {},
   "outputs": [
    {
     "data": {
      "text/plain": [
       "0.0013529789789748043"
      ]
     },
     "execution_count": 4,
     "metadata": {},
     "output_type": "execute_result"
    }
   ],
   "source": [
    "skx.eis.ElectrochemicalCircuit.get_c_warburg(D*1e4, 669.0, d*1e6, 65.0, 360.0) "
   ]
  },
  {
   "cell_type": "code",
   "execution_count": 8,
   "id": "7e0d4dc7-77f8-4e66-8f24-e7d2cd2f2604",
   "metadata": {},
   "outputs": [
    {
     "name": "stdout",
     "output_type": "stream",
     "text": [
      "8.108940915773239e-11\n",
      "56779.02589843895\n",
      "0.6716370379115836\n"
     ]
    }
   ],
   "source": [
    "C = skx.eis.ElectrochemicalCircuit.q2c_sd(2e-4, 0.46, 82, 174.0)\n",
    "print(C)\n",
    "d = skx.eis.ElectrochemicalCircuit.c2d(eps=80, capacitance=C, area=65.0e-4)\n",
    "print(d*1e6)\n",
    "D = skx.eis.ElectrochemicalCircuit.d2D(d, tau=48)\n",
    "print(D*1e4)"
   ]
  },
  {
   "cell_type": "code",
   "execution_count": null,
   "id": "ef1f5354-6eed-4bfe-9cb1-0ad3888f95ff",
   "metadata": {},
   "outputs": [],
   "source": []
  },
  {
   "cell_type": "code",
   "execution_count": 1,
   "id": "cdb136b2-6111-4964-9420-a0d83c8e6b2e",
   "metadata": {},
   "outputs": [],
   "source": [
    "%config Completer.use_jedi = False"
   ]
  },
  {
   "cell_type": "code",
   "execution_count": 2,
   "id": "5aa88568-370a-43ac-98da-cadcfd617f3d",
   "metadata": {},
   "outputs": [],
   "source": [
    "import skelectrox as skx"
   ]
  },
  {
   "cell_type": "code",
   "execution_count": 3,
   "id": "9e73b0fc-dcae-458c-98b4-4c2f5c1de34f",
   "metadata": {},
   "outputs": [
    {
     "name": "stdout",
     "output_type": "stream",
     "text": [
      "===== ========= ====== ========= ========= ========= ========= ============ ========= ========= ========= \n",
      "Names Values    Errors Errors /% Min       Max       Fixed     LogRandomize LogScan   Sign      Period    \n",
      "===== ========= ====== ========= ========= ========= ========= ============ ========= ========= ========= \n",
      "a     +1.00e+00 +nan   +nan      +1.00e-20 +1.00e+20 +0.00e+00 +1.00e+00    +0.00e+00 +1.00e+00 +0.00e+00 \n",
      "b     +1.00e+00 +nan   +nan      +1.00e-20 +1.00e+20 +0.00e+00 +1.00e+00    +0.00e+00 +1.00e+00 +0.00e+00 \n",
      "===== ========= ====== ========= ========= ========= ========= ============ ========= ========= ========= \n"
     ]
    }
   ],
   "source": [
    "c = skx.utilities.Function.from_string('f[a,b](x)=a*x+b')\n",
    "\n",
    "print(c.prm_array_as_rst)"
   ]
  },
  {
   "cell_type": "code",
   "execution_count": 4,
   "id": "fc4c9fbe-7455-42ca-854a-08eb6e4fa6c8",
   "metadata": {},
   "outputs": [
    {
     "name": "stdout",
     "output_type": "stream",
     "text": [
      "|Names|Values   |Errors|Errors /%|Min      |Max      |Fixed    |LogRandomize|LogScan  |Sign     |Period   |\n",
      "|-----|---------|------|---------|---------|---------|---------|------------|---------|---------|---------|\n",
      "|a    |+1.00e+00|+nan  |+nan     |+1.00e-20|+1.00e+20|+0.00e+00|+1.00e+00   |+0.00e+00|+1.00e+00|+0.00e+00|\n",
      "|b    |+1.00e+00|+nan  |+nan     |+1.00e-20|+1.00e+20|+0.00e+00|+1.00e+00   |+0.00e+00|+1.00e+00|+0.00e+00|\n"
     ]
    }
   ],
   "source": [
    "print(c.parameter_array_as_md)"
   ]
  },
  {
   "cell_type": "code",
   "execution_count": 5,
   "id": "f7f22370-fed3-45c8-a9c8-f752afd7070b",
   "metadata": {},
   "outputs": [],
   "source": [
    "c.float_formatter = \"+.4e\""
   ]
  },
  {
   "cell_type": "code",
   "execution_count": 6,
   "id": "112d5bf5-7bb1-4d87-95e4-959c49e86d4d",
   "metadata": {},
   "outputs": [
    {
     "name": "stdout",
     "output_type": "stream",
     "text": [
      "|Names|Values     |Errors|Errors /%|Min        |Max        |Fixed      |LogRandomize|LogScan    |Sign       |Period     |\n",
      "|-----|-----------|------|---------|-----------|-----------|-----------|------------|-----------|-----------|-----------|\n",
      "|a    |+1.0000e+00|+nan  |+nan     |+1.0000e-20|+1.0000e+20|+0.0000e+00|+1.0000e+00 |+0.0000e+00|+1.0000e+00|+0.0000e+00|\n",
      "|b    |+1.0000e+00|+nan  |+nan     |+1.0000e-20|+1.0000e+20|+0.0000e+00|+1.0000e+00 |+0.0000e+00|+1.0000e+00|+0.0000e+00|\n"
     ]
    }
   ],
   "source": [
    "print(c.parameter_array_as_md)"
   ]
  },
  {
   "cell_type": "code",
   "execution_count": 7,
   "id": "2819df9b-1496-4dba-854e-58c18b016968",
   "metadata": {},
   "outputs": [
    {
     "name": "stdout",
     "output_type": "stream",
     "text": [
      "===== =========== ====== ========= =========== =========== =========== ============ =========== =========== =========== \n",
      "Names Values      Errors Errors /% Min         Max         Fixed       LogRandomize LogScan     Sign        Period      \n",
      "===== =========== ====== ========= =========== =========== =========== ============ =========== =========== =========== \n",
      "a     +1.0000e+00 +nan   +nan      +1.0000e-20 +1.0000e+20 +0.0000e+00 +1.0000e+00  +0.0000e+00 +1.0000e+00 +0.0000e+00 \n",
      "b     +1.0000e+00 +nan   +nan      +1.0000e-20 +1.0000e+20 +0.0000e+00 +1.0000e+00  +0.0000e+00 +1.0000e+00 +0.0000e+00 \n",
      "===== =========== ====== ========= =========== =========== =========== ============ =========== =========== =========== \n"
     ]
    }
   ],
   "source": [
    "print(c.prm_array_as_rst)"
   ]
  },
  {
   "cell_type": "code",
   "execution_count": 1,
   "id": "c4cc54da-3aec-4669-9a69-73debea90b4e",
   "metadata": {},
   "outputs": [],
   "source": [
    "import skelectrox as skx"
   ]
  },
  {
   "cell_type": "code",
   "execution_count": 2,
   "id": "c1451f73-c2bc-4634-a400-218ff8abd811",
   "metadata": {},
   "outputs": [
    {
     "data": {
      "text/plain": [
       "array([2.6e-06])"
      ]
     },
     "execution_count": 2,
     "metadata": {},
     "output_type": "execute_result"
    }
   ],
   "source": [
    "e = 2.543e-6\n",
    "skx.utilities.Function.round_errors(e, ceil=True, p=2)"
   ]
  },
  {
   "cell_type": "code",
   "execution_count": 6,
   "id": "d6b31b37-c054-4ed0-b0ed-429cdb0f105c",
   "metadata": {},
   "outputs": [
    {
     "data": {
      "text/plain": [
       "array([2.4e+09])"
      ]
     },
     "execution_count": 6,
     "metadata": {},
     "output_type": "execute_result"
    }
   ],
   "source": [
    "e = 2.443e9\n",
    "skx.utilities.Function.round_errors(e, ceil=False, p=2)"
   ]
  },
  {
   "cell_type": "code",
   "execution_count": null,
   "id": "28a9f1e1-bda4-479d-9628-bdde7680a0e2",
   "metadata": {},
   "outputs": [],
   "source": []
  }
 ],
 "metadata": {
  "kernelspec": {
   "display_name": "Python 3 (ipykernel)",
   "language": "python",
   "name": "python3"
  },
  "language_info": {
   "codemirror_mode": {
    "name": "ipython",
    "version": 3
   },
   "file_extension": ".py",
   "mimetype": "text/x-python",
   "name": "python",
   "nbconvert_exporter": "python",
   "pygments_lexer": "ipython3",
   "version": "3.11.3"
  }
 },
 "nbformat": 4,
 "nbformat_minor": 5
}
